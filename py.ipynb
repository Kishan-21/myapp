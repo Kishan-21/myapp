{
  "nbformat": 4,
  "nbformat_minor": 0,
  "metadata": {
    "colab": {
      "name": "pytorch_tutorial.ipynb",
      "provenance": [],
      "collapsed_sections": []
    },
    "kernelspec": {
      "name": "python3",
      "display_name": "Python 3"
    },
    "accelerator": "GPU"
  },
  "cells": [
    {
      "cell_type": "markdown",
      "metadata": {
        "id": "qW7DZLguPF9r",
        "colab_type": "text"
      },
      "source": [
        "\n",
        "\n",
        "> **Welcome to PyTorch Basics**\n",
        "\n",
        "*   Learn what is tensor and how to deal with it.\n",
        "*   Tensor operations\n",
        "*   Work seamlessly with numpy and pytorch\n",
        "*   PyTorch with GPU\n",
        "\n",
        "*   Linear and Logistic Regression using pytorch\n",
        "*   Neural Nets with pytorch\n"
      ]
    },
    {
      "cell_type": "code",
      "metadata": {
        "id": "qQ9hb-6UBclf",
        "colab_type": "code",
        "colab": {}
      },
      "source": [
        "import torch"
      ],
      "execution_count": 0,
      "outputs": []
    },
    {
      "cell_type": "code",
      "metadata": {
        "id": "cDJNDqn1B5b2",
        "colab_type": "code",
        "colab": {
          "base_uri": "https://localhost:8080/",
          "height": 85
        },
        "outputId": "98b80298-50e7-44f8-9da9-6042a2f54ef7"
      },
      "source": [
        "# create a tensor\n",
        "tensor = torch.Tensor([[1, 2], [3, 4]])\n",
        "print(tensor)\n",
        "\n",
        "int_tensor = torch.zeros([2, 2], dtype=torch.int32)\n",
        "print(int_tensor.type())\n",
        "print(tensor.type())"
      ],
      "execution_count": 82,
      "outputs": [
        {
          "output_type": "stream",
          "text": [
            "tensor([[1., 2.],\n",
            "        [3., 4.]])\n",
            "torch.IntTensor\n",
            "torch.FloatTensor\n"
          ],
          "name": "stdout"
        }
      ]
    },
    {
      "cell_type": "code",
      "metadata": {
        "id": "ifUa-sh5CDvh",
        "colab_type": "code",
        "colab": {
          "base_uri": "https://localhost:8080/",
          "height": 51
        },
        "outputId": "67c0f247-e39b-4536-c979-84e95ad8ba77"
      },
      "source": [
        "# shape of the tensor\n",
        "print(tensor.shape)\n",
        "print(tensor.size())"
      ],
      "execution_count": 83,
      "outputs": [
        {
          "output_type": "stream",
          "text": [
            "torch.Size([2, 2])\n",
            "torch.Size([2, 2])\n"
          ],
          "name": "stdout"
        }
      ]
    },
    {
      "cell_type": "code",
      "metadata": {
        "id": "Jm6Fxe9SCWOQ",
        "colab_type": "code",
        "colab": {
          "base_uri": "https://localhost:8080/",
          "height": 51
        },
        "outputId": "02bcf503-e377-4b3b-c0a5-3e8d402502f9"
      },
      "source": [
        "# create a random tensor\n",
        "empty_tensor = torch.Tensor(2,2)\n",
        "print(empty_tensor)"
      ],
      "execution_count": 84,
      "outputs": [
        {
          "output_type": "stream",
          "text": [
            "tensor([[5.5310e+27, 0.0000e+00],\n",
            "        [4.4842e-44, 0.0000e+00]])\n"
          ],
          "name": "stdout"
        }
      ]
    },
    {
      "cell_type": "code",
      "metadata": {
        "id": "MeHB6zmVCYWu",
        "colab_type": "code",
        "colab": {
          "base_uri": "https://localhost:8080/",
          "height": 51
        },
        "outputId": "72f6a8b2-0791-4b66-d7ce-d0d42d630643"
      },
      "source": [
        "# create a tensor with value between -1 and 1\n",
        "uniform_tensor = torch.Tensor(2, 2).uniform_(-1, 1)\n",
        "print(uniform_tensor)"
      ],
      "execution_count": 85,
      "outputs": [
        {
          "output_type": "stream",
          "text": [
            "tensor([[ 0.4845,  0.2023],\n",
            "        [ 0.7255, -0.3425]])\n"
          ],
          "name": "stdout"
        }
      ]
    },
    {
      "cell_type": "code",
      "metadata": {
        "id": "iajWj2PcCa9c",
        "colab_type": "code",
        "colab": {
          "base_uri": "https://localhost:8080/",
          "height": 34
        },
        "outputId": "ae6361f3-e504-4744-ce30-4d0b4dd37a6f"
      },
      "source": [
        "# create a random tensor with values between 0 and 1\n",
        "rand_tensor = torch.rand(2, )\n",
        "print(rand_tensor)\n"
      ],
      "execution_count": 86,
      "outputs": [
        {
          "output_type": "stream",
          "text": [
            "tensor([0.3282, 0.6194])\n"
          ],
          "name": "stdout"
        }
      ]
    },
    {
      "cell_type": "markdown",
      "metadata": {
        "id": "29Hh5G6OF5L6",
        "colab_type": "text"
      },
      "source": [
        "**Tensor Operation**\n"
      ]
    },
    {
      "cell_type": "code",
      "metadata": {
        "id": "hYve2yUhF0Ab",
        "colab_type": "code",
        "colab": {
          "base_uri": "https://localhost:8080/",
          "height": 51
        },
        "outputId": "1ff83590-b6fb-49a5-81e3-7da43d728390"
      },
      "source": [
        "# access an element from a tensor\n",
        "print(tensor[0][0]) \n",
        "print(tensor[0][0].item())"
      ],
      "execution_count": 87,
      "outputs": [
        {
          "output_type": "stream",
          "text": [
            "tensor(1.)\n",
            "1.0\n"
          ],
          "name": "stdout"
        }
      ]
    },
    {
      "cell_type": "code",
      "metadata": {
        "id": "JRncPfyaGfFU",
        "colab_type": "code",
        "colab": {
          "base_uri": "https://localhost:8080/",
          "height": 51
        },
        "outputId": "ef95fbd0-da9c-430a-b252-1fdfb0eb5c8a"
      },
      "source": [
        "# replace an item at position (1,1)\n",
        "tensor[1][1] = 5\n",
        "print(tensor)"
      ],
      "execution_count": 88,
      "outputs": [
        {
          "output_type": "stream",
          "text": [
            "tensor([[1., 2.],\n",
            "        [3., 5.]])\n"
          ],
          "name": "stdout"
        }
      ]
    },
    {
      "cell_type": "code",
      "metadata": {
        "id": "yLOJG9CoLDTE",
        "colab_type": "code",
        "colab": {
          "base_uri": "https://localhost:8080/",
          "height": 102
        },
        "outputId": "5c8a5612-1cd9-408c-d6e2-b2c3aed54d26"
      },
      "source": [
        "# create a tensor for slicing operations\n",
        "slicing_tensor = torch.Tensor([[0, 1 , 2], [3, 4, 5]])\n",
        "print(slicing_tensor.shape)\n",
        "\n",
        "# elements from every row and first column\n",
        "print(slicing_tensor[:, 0])\n",
        "\n",
        "# elements from every row and last column\n",
        "print(slicing_tensor[:, -1])\n",
        "\n",
        "# all elements from the first two columns\n",
        "print(slicing_tensor[:, :2])"
      ],
      "execution_count": 89,
      "outputs": [
        {
          "output_type": "stream",
          "text": [
            "torch.Size([2, 3])\n",
            "tensor([0., 3.])\n",
            "tensor([2., 5.])\n",
            "tensor([[0., 1.],\n",
            "        [3., 4.]])\n"
          ],
          "name": "stdout"
        }
      ]
    },
    {
      "cell_type": "code",
      "metadata": {
        "id": "wVTRF8piMExa",
        "colab_type": "code",
        "colab": {
          "base_uri": "https://localhost:8080/",
          "height": 68
        },
        "outputId": "95260bed-1cb3-46d8-e91f-68374b52c3c1"
      },
      "source": [
        "# reshape a tensor\n",
        "reshape_tensor = torch.Tensor([[0, 1, 2], [3, 4, 5]])\n",
        "print(reshape_tensor.shape)\n",
        "\n",
        "reshape_tensor = reshape_tensor.view(1, 6)\n",
        "print(reshape_tensor)\n",
        "print(reshape_tensor.shape)"
      ],
      "execution_count": 90,
      "outputs": [
        {
          "output_type": "stream",
          "text": [
            "torch.Size([2, 3])\n",
            "tensor([[0., 1., 2., 3., 4., 5.]])\n",
            "torch.Size([1, 6])\n"
          ],
          "name": "stdout"
        }
      ]
    },
    {
      "cell_type": "markdown",
      "metadata": {
        "id": "nEEo-8IxOoFe",
        "colab_type": "text"
      },
      "source": [
        "**Bridge between numpy and pytorch**"
      ]
    },
    {
      "cell_type": "code",
      "metadata": {
        "id": "SmmiBQLzM3g4",
        "colab_type": "code",
        "colab": {
          "base_uri": "https://localhost:8080/",
          "height": 85
        },
        "outputId": "906a4ff2-7eba-4332-b74f-47b97236f849"
      },
      "source": [
        "import numpy as np\n",
        "# create a numpy array\n",
        "np_ndarray = np.random.randn(2, 2)\n",
        "\n",
        "# convert numpy array to pytorch tensor\n",
        "to_tensor = torch.from_numpy(np_ndarray)\n",
        "print(to_tensor)\n",
        "\n",
        "# convert torch tensor to numpy array\n",
        "to_numpy = to_tensor.numpy()\n",
        "print(to_numpy)\n"
      ],
      "execution_count": 91,
      "outputs": [
        {
          "output_type": "stream",
          "text": [
            "tensor([[ 0.0642, -1.2433],\n",
            "        [ 0.6279,  1.8401]], dtype=torch.float64)\n",
            "[[ 0.06419363 -1.24329566]\n",
            " [ 0.62787306  1.8400619 ]]\n"
          ],
          "name": "stdout"
        }
      ]
    },
    {
      "cell_type": "markdown",
      "metadata": {
        "id": "q1-ArH-iQThq",
        "colab_type": "text"
      },
      "source": [
        "**Basic Tensor Operations**"
      ]
    },
    {
      "cell_type": "code",
      "metadata": {
        "id": "1aNMHot4QTNw",
        "colab_type": "code",
        "colab": {
          "base_uri": "https://localhost:8080/",
          "height": 51
        },
        "outputId": "a5e37660-f08a-4cd9-ebd6-4cf589e15871"
      },
      "source": [
        "# transpose a tensor\n",
        "my_tensor = torch.Tensor([[1, 2, 3], [4, 5, 6]])\n",
        "print(my_tensor.shape)\n",
        "\n",
        "my_transposed_tensor = my_tensor.t()\n",
        "print(my_transposed_tensor.shape)"
      ],
      "execution_count": 92,
      "outputs": [
        {
          "output_type": "stream",
          "text": [
            "torch.Size([2, 3])\n",
            "torch.Size([3, 2])\n"
          ],
          "name": "stdout"
        }
      ]
    },
    {
      "cell_type": "code",
      "metadata": {
        "id": "gp1RbkVdTIpZ",
        "colab_type": "code",
        "colab": {
          "base_uri": "https://localhost:8080/",
          "height": 34
        },
        "outputId": "3594f462-8df7-4dd0-d5e3-62c2aaa9d752"
      },
      "source": [
        "# tensor addition\n",
        "tensor_1 = torch.Tensor([1, 2])\n",
        "tensor_2 = torch.Tensor([2, 1])\n",
        "print(tensor_1 + tensor_2)"
      ],
      "execution_count": 93,
      "outputs": [
        {
          "output_type": "stream",
          "text": [
            "tensor([3., 3.])\n"
          ],
          "name": "stdout"
        }
      ]
    },
    {
      "cell_type": "code",
      "metadata": {
        "id": "-XIsEqd5WffH",
        "colab_type": "code",
        "colab": {
          "base_uri": "https://localhost:8080/",
          "height": 34
        },
        "outputId": "c88c322b-fcc1-435e-8436-0c0edfb6edfe"
      },
      "source": [
        "# tensor subtraction\n",
        "print(tensor_1 - tensor_2)"
      ],
      "execution_count": 94,
      "outputs": [
        {
          "output_type": "stream",
          "text": [
            "tensor([-1.,  1.])\n"
          ],
          "name": "stdout"
        }
      ]
    },
    {
      "cell_type": "code",
      "metadata": {
        "id": "rBqmBYSVQNPX",
        "colab_type": "code",
        "colab": {
          "base_uri": "https://localhost:8080/",
          "height": 51
        },
        "outputId": "34a0681b-d937-4b37-9895-c7a259ce7ed8"
      },
      "source": [
        "# cross product\n",
        "tensor_1 = torch.Tensor([[1, 2, 3], [3, 4, 5]])\n",
        "tensor_2 = torch.Tensor([[3, 2, 1], [5, 4, 3]])\n",
        "\n",
        "cross_tensor = tensor_1.cross(tensor_2)\n",
        "print(cross_tensor)"
      ],
      "execution_count": 95,
      "outputs": [
        {
          "output_type": "stream",
          "text": [
            "tensor([[-4.,  8., -4.],\n",
            "        [-8., 16., -8.]])\n"
          ],
          "name": "stdout"
        }
      ]
    },
    {
      "cell_type": "code",
      "metadata": {
        "id": "rXfXttQmWlvB",
        "colab_type": "code",
        "colab": {
          "base_uri": "https://localhost:8080/",
          "height": 51
        },
        "outputId": "70141ee4-f3a6-481d-e8b4-2923cf235c87"
      },
      "source": [
        "# matrix multiplication\n",
        "tensor_1 = torch.Tensor([[1, 0], [0, 1]])\n",
        "tensor_2 = torch.Tensor([[2, 0], [0, 2]])\n",
        "matmul_tensor = tensor_1.mm(tensor_2)\n",
        "print(matmul_tensor)"
      ],
      "execution_count": 96,
      "outputs": [
        {
          "output_type": "stream",
          "text": [
            "tensor([[2., 0.],\n",
            "        [0., 2.]])\n"
          ],
          "name": "stdout"
        }
      ]
    },
    {
      "cell_type": "code",
      "metadata": {
        "id": "so16Va25W--8",
        "colab_type": "code",
        "colab": {
          "base_uri": "https://localhost:8080/",
          "height": 34
        },
        "outputId": "13c0b675-94d9-441c-8ca9-1d505c5cd84a"
      },
      "source": [
        "# elementwise multiplication\n",
        "tensor_1 = torch.Tensor([1, 2, 3, 4])\n",
        "tensor_2 = torch.Tensor([2, 1, 4, 3])\n",
        "elemmul_tensor = tensor_1.mul(tensor_2)\n",
        "print(elemmul_tensor)"
      ],
      "execution_count": 97,
      "outputs": [
        {
          "output_type": "stream",
          "text": [
            "tensor([ 2.,  2., 12., 12.])\n"
          ],
          "name": "stdout"
        }
      ]
    },
    {
      "cell_type": "markdown",
      "metadata": {
        "id": "cwRjPXw0Y9Ii",
        "colab_type": "text"
      },
      "source": [
        "**GPU/CUDA**\n",
        "\n",
        "> You can accelerate your tensor operations using GPU. Here is how you can do it!\n"
      ]
    },
    {
      "cell_type": "code",
      "metadata": {
        "id": "Ml3FnUHfXmLW",
        "colab_type": "code",
        "colab": {
          "base_uri": "https://localhost:8080/",
          "height": 68
        },
        "outputId": "bae28bee-6a91-4613-b733-e4de7c478908"
      },
      "source": [
        "print(torch.cuda.is_available())\n",
        "tensor_1 = torch.Tensor([[1, 0], [0, 1]])\n",
        "tensor_2 = torch.Tensor([[2, 0], [0, 2]])\n",
        "tensor_1 = tensor_1.cuda()\n",
        "tensor_2 = tensor_2.cuda()\n",
        "print(tensor_1.mm(tensor_2))"
      ],
      "execution_count": 98,
      "outputs": [
        {
          "output_type": "stream",
          "text": [
            "True\n",
            "tensor([[2., 0.],\n",
            "        [0., 2.]], device='cuda:0')\n"
          ],
          "name": "stdout"
        }
      ]
    },
    {
      "cell_type": "markdown",
      "metadata": {
        "id": "wbjdSey9gzPN",
        "colab_type": "text"
      },
      "source": [
        "**Linear Regression**\n",
        "\n",
        "```\n",
        "Ŷ = bX + a + e\n",
        "```\n",
        "\n"
      ]
    },
    {
      "cell_type": "code",
      "metadata": {
        "id": "EqnK9yGJbZnZ",
        "colab_type": "code",
        "colab": {
          "base_uri": "https://localhost:8080/",
          "height": 68
        },
        "outputId": "c624760f-51c1-45dc-8847-dce34e827001"
      },
      "source": [
        "# how to calculate gradient of a variable\n",
        "x = torch.tensor(3., requires_grad=True)\n",
        "w = torch.tensor(2., requires_grad=True)\n",
        "b = torch.tensor(1., requires_grad=True)\n",
        "\n",
        "# build the computation graph\n",
        "y = w*x + b\n",
        "\n",
        "# compute gradients\n",
        "y.backward()\n",
        "\n",
        "# print the gradients\n",
        "print(x.grad)\n",
        "print(w.grad)\n",
        "print(b.grad)"
      ],
      "execution_count": 99,
      "outputs": [
        {
          "output_type": "stream",
          "text": [
            "tensor(2.)\n",
            "tensor(3.)\n",
            "tensor(1.)\n"
          ],
          "name": "stdout"
        }
      ]
    },
    {
      "cell_type": "code",
      "metadata": {
        "id": "htoMxE7KicSR",
        "colab_type": "code",
        "colab": {
          "base_uri": "https://localhost:8080/",
          "height": 221
        },
        "outputId": "96363bc9-75ae-406c-f21b-b3e305937076"
      },
      "source": [
        "# learn to build loss function and optimiser\n",
        "x = torch.rand(10, 3)\n",
        "y = torch.rand(10, 2)\n",
        "\n",
        "# build a fully connected layer. this is our model\n",
        "linear = torch.nn.Linear(3, 2)\n",
        "\n",
        "print('Weight : ', linear.weight)\n",
        "print('Bias : ', linear.bias)\n",
        "\n",
        "# define loss function and optimiser\n",
        "criterion = torch.nn.MSELoss()\n",
        "optimiser = torch.optim.SGD(linear.parameters(), lr=0.01)\n",
        "\n",
        "# forward pass\n",
        "pred = linear(x)\n",
        "\n",
        "# compute loss\n",
        "loss = criterion(pred, y)\n",
        "print('Loss: ', loss.item())\n",
        "\n",
        "# backward pass\n",
        "loss.backward()\n",
        "print('dL/dW : ', linear.weight)\n",
        "print('dL/db : ', linear.bias)\n",
        "\n",
        "# update the weight and bias\n",
        "optimiser.step()\n",
        "\n",
        "# print loss after 1 step of SGD\n",
        "pred = linear(x)\n",
        "loss = criterion(pred, y)\n",
        "print('Loss : ', loss.item())\n"
      ],
      "execution_count": 100,
      "outputs": [
        {
          "output_type": "stream",
          "text": [
            "Weight :  Parameter containing:\n",
            "tensor([[ 0.3938,  0.1538,  0.1772],\n",
            "        [ 0.1885, -0.0399, -0.0179]], requires_grad=True)\n",
            "Bias :  Parameter containing:\n",
            "tensor([-0.1385,  0.5432], requires_grad=True)\n",
            "Loss:  0.12052497267723083\n",
            "dL/dW :  Parameter containing:\n",
            "tensor([[ 0.3938,  0.1538,  0.1772],\n",
            "        [ 0.1885, -0.0399, -0.0179]], requires_grad=True)\n",
            "dL/db :  Parameter containing:\n",
            "tensor([-0.1385,  0.5432], requires_grad=True)\n",
            "Loss :  0.11848536878824234\n"
          ],
          "name": "stdout"
        }
      ]
    },
    {
      "cell_type": "markdown",
      "metadata": {
        "id": "bbJSvVMNmZeu",
        "colab_type": "text"
      },
      "source": [
        "**Linear Regression, finally!**"
      ]
    },
    {
      "cell_type": "code",
      "metadata": {
        "id": "yUQcfe58jYn0",
        "colab_type": "code",
        "colab": {
          "base_uri": "https://localhost:8080/",
          "height": 357
        },
        "outputId": "ac116dd3-db04-429e-80d0-132057a8364d"
      },
      "source": [
        "# hyper-parameters\n",
        "input_size = 1\n",
        "output_size = 1\n",
        "num_epochs = 100\n",
        "learning_rate = 0.01\n",
        "\n",
        "# toy-dataset\n",
        "x_train = np.array([[3.3], [4.4], [5.5], [6.71], [6.93], [4.168],\n",
        "                    [9.779], [6.182], [7.59], [2.167], [7.042],\n",
        "                    [10.791], [5.313], [7.997], [3.1]], dtype=np.float32)\n",
        "\n",
        "y_train = y_train = np.array([[1.7], [2.76], [2.09], [3.19], [1.694], [1.573],\n",
        "                    [3.366], [2.596], [2.53], [1.221], [2.827],\n",
        "                    [3.465], [1.65], [2.904], [1.3]], dtype=np.float32)\n",
        "\n",
        "# linear regression model\n",
        "model = torch.nn.Linear(input_size, output_size)\n",
        "\n",
        "# loss function and optimiser\n",
        "criterion = torch.nn.MSELoss()\n",
        "optimiser = torch.optim.SGD(model.parameters(), lr=learning_rate)\n",
        "\n",
        "# train the model\n",
        "for epoch in range(num_epochs):\n",
        "  # convert numpy array to torch tensors\n",
        "  inputs = torch.from_numpy(x_train)\n",
        "  targets = torch.from_numpy(y_train)\n",
        "\n",
        "  # forward pass\n",
        "  outputs = model(inputs)\n",
        "  loss = criterion(outputs, targets)\n",
        "\n",
        "  # backward pass\n",
        "  optimiser.zero_grad()\n",
        "  loss.backward()\n",
        "  optimiser.step()\n",
        "\n",
        "  if (epoch + 1) % 5 == 0:\n",
        "    print('Epoch [{}/{}], Loss : {:.4f}'.format(epoch, num_epochs, loss.item()))"
      ],
      "execution_count": 101,
      "outputs": [
        {
          "output_type": "stream",
          "text": [
            "Epoch [4/100], Loss : 0.4557\n",
            "Epoch [9/100], Loss : 0.4485\n",
            "Epoch [14/100], Loss : 0.4414\n",
            "Epoch [19/100], Loss : 0.4344\n",
            "Epoch [24/100], Loss : 0.4277\n",
            "Epoch [29/100], Loss : 0.4211\n",
            "Epoch [34/100], Loss : 0.4147\n",
            "Epoch [39/100], Loss : 0.4085\n",
            "Epoch [44/100], Loss : 0.4024\n",
            "Epoch [49/100], Loss : 0.3965\n",
            "Epoch [54/100], Loss : 0.3907\n",
            "Epoch [59/100], Loss : 0.3851\n",
            "Epoch [64/100], Loss : 0.3796\n",
            "Epoch [69/100], Loss : 0.3742\n",
            "Epoch [74/100], Loss : 0.3690\n",
            "Epoch [79/100], Loss : 0.3639\n",
            "Epoch [84/100], Loss : 0.3590\n",
            "Epoch [89/100], Loss : 0.3542\n",
            "Epoch [94/100], Loss : 0.3495\n",
            "Epoch [99/100], Loss : 0.3449\n"
          ],
          "name": "stdout"
        }
      ]
    },
    {
      "cell_type": "code",
      "metadata": {
        "id": "a736M0pimuLM",
        "colab_type": "code",
        "colab": {
          "base_uri": "https://localhost:8080/",
          "height": 265
        },
        "outputId": "0076bb7e-1a3b-405e-d305-29ab71e1fb9e"
      },
      "source": [
        "import matplotlib.pyplot as plt\n",
        "predicted = model(torch.from_numpy(x_train)).detach().numpy()\n",
        "plt.plot(x_train, y_train, 'ro', label='Original data')\n",
        "plt.plot(x_train, predicted, label='Predicted data')\n",
        "plt.legend()\n",
        "plt.show()"
      ],
      "execution_count": 102,
      "outputs": [
        {
          "output_type": "display_data",
          "data": {
            "image/png": "[encoded data removed]",
            "text/plain": [
              "<Figure size 432x288 with 1 Axes>"
            ]
          },
          "metadata": {
            "tags": []
          }
        }
      ]
    },
    {
      "cell_type": "markdown",
      "metadata": {
        "id": "PlH7X8Xrpy31",
        "colab_type": "text"
      },
      "source": [
        "**Logistic Regression**"
      ]
    },
    {
      "cell_type": "code",
      "metadata": {
        "id": "EcDVbZ4rpp6i",
        "colab_type": "code",
        "colab": {}
      },
      "source": [
        "import torchvision"
      ],
      "execution_count": 0,
      "outputs": []
    },
    {
      "cell_type": "code",
      "metadata": {
        "id": "bNSg5U8mp_pG",
        "colab_type": "code",
        "colab": {
          "base_uri": "https://localhost:8080/",
          "height": 527
        },
        "outputId": "c9a587ba-d2fe-4daa-ff12-1df011096dfe"
      },
      "source": [
        "# hyper-parameters\n",
        "input_size = 784\n",
        "num_classes = 10\n",
        "num_epochs = 5\n",
        "batch_size = 100\n",
        "learning_rate = 0.001\n",
        "\n",
        "# MNIST data (images and labels)\n",
        "train_dataset = torchvision.datasets.MNIST('./data', train=True, transform=torchvision.transforms.ToTensor(), download=True)\n",
        "test_dataset = torchvision.datasets.MNIST('./data', train=False, transform=torchvision.transforms.ToTensor())\n",
        "\n",
        "# data loader\n",
        "train_loader = torch.utils.data.DataLoader(dataset=train_dataset, batch_size=batch_size, shuffle=True)\n",
        "test_loader = torch.utils.data.DataLoader(dataset=test_dataset, batch_size=batch_size, shuffle=False)\n",
        "\n",
        "# logistic regression model\n",
        "model = torch.nn.Linear(input_size, num_classes)\n",
        "\n",
        "# loss function and optimiser\n",
        "criterion = torch.nn.CrossEntropyLoss()\n",
        "optimiser = torch.optim.SGD(model.parameters(), lr=learning_rate)\n",
        "\n",
        "total_step = len(train_loader)\n",
        "for epoch in range(num_epochs):\n",
        "  for i, (images, labels) in enumerate(train_loader):\n",
        "    # reshape images to (batch_size, input_size)\n",
        "    images = images.reshape(-1, 28*28)\n",
        "\n",
        "    # forward pass\n",
        "    outputs = model(images)\n",
        "    loss = criterion(outputs, labels)\n",
        "\n",
        "    # backward pass\n",
        "    optimiser.zero_grad()\n",
        "    loss.backward()\n",
        "    optimiser.step()\n",
        "\n",
        "    if (i+1)%100 == 0:\n",
        "      print('Epoch: [{}/{}], Step: [{}/{}], Loss: {}'.format(epoch+1, num_epochs, (i+1), total_step, loss.item()))\n"
      ],
      "execution_count": 104,
      "outputs": [
        {
          "output_type": "stream",
          "text": [
            "Epoch: [0/5], Step: [100/600], Loss: 2.275242567062378\n",
            "Epoch: [0/5], Step: [200/600], Loss: 2.1301276683807373\n",
            "Epoch: [0/5], Step: [300/600], Loss: 2.0826468467712402\n",
            "Epoch: [0/5], Step: [400/600], Loss: 1.9868426322937012\n",
            "Epoch: [0/5], Step: [500/600], Loss: 1.933735966682434\n",
            "Epoch: [0/5], Step: [600/600], Loss: 1.8777661323547363\n",
            "Epoch: [1/5], Step: [100/600], Loss: 1.7542041540145874\n",
            "Epoch: [1/5], Step: [200/600], Loss: 1.7108606100082397\n",
            "Epoch: [1/5], Step: [300/600], Loss: 1.668391466140747\n",
            "Epoch: [1/5], Step: [400/600], Loss: 1.567360520362854\n",
            "Epoch: [1/5], Step: [500/600], Loss: 1.4745100736618042\n",
            "Epoch: [1/5], Step: [600/600], Loss: 1.5267373323440552\n",
            "Epoch: [2/5], Step: [100/600], Loss: 1.4290955066680908\n",
            "Epoch: [2/5], Step: [200/600], Loss: 1.372494101524353\n",
            "Epoch: [2/5], Step: [300/600], Loss: 1.3481389284133911\n",
            "Epoch: [2/5], Step: [400/600], Loss: 1.3037468194961548\n",
            "Epoch: [2/5], Step: [500/600], Loss: 1.368414282798767\n",
            "Epoch: [2/5], Step: [600/600], Loss: 1.2571070194244385\n",
            "Epoch: [3/5], Step: [100/600], Loss: 1.217742681503296\n",
            "Epoch: [3/5], Step: [200/600], Loss: 1.177332878112793\n",
            "Epoch: [3/5], Step: [300/600], Loss: 1.166712760925293\n",
            "Epoch: [3/5], Step: [400/600], Loss: 1.1505472660064697\n",
            "Epoch: [3/5], Step: [500/600], Loss: 1.2024507522583008\n",
            "Epoch: [3/5], Step: [600/600], Loss: 1.1310445070266724\n",
            "Epoch: [4/5], Step: [100/600], Loss: 1.1882827281951904\n",
            "Epoch: [4/5], Step: [200/600], Loss: 1.0985058546066284\n",
            "Epoch: [4/5], Step: [300/600], Loss: 1.0408210754394531\n",
            "Epoch: [4/5], Step: [400/600], Loss: 1.0233019590377808\n",
            "Epoch: [4/5], Step: [500/600], Loss: 1.0069011449813843\n",
            "Epoch: [4/5], Step: [600/600], Loss: 1.0102660655975342\n"
          ],
          "name": "stdout"
        }
      ]
    },
    {
      "cell_type": "code",
      "metadata": {
        "id": "TM9swXpxvOt4",
        "colab_type": "code",
        "colab": {
          "base_uri": "https://localhost:8080/",
          "height": 34
        },
        "outputId": "46bc3f29-3f80-492d-af93-c105a8eb2d79"
      },
      "source": [
        "# test the model\n",
        "# in test phase, we don't need the gradients\n",
        "with torch.no_grad():\n",
        "  correct = 0\n",
        "  total = 0\n",
        "  for images, labels in test_loader:\n",
        "    images = images.reshape(-1, 28*28)\n",
        "    outputs = model(images)\n",
        "    _, predicted = torch.max(outputs.data, 1)\n",
        "    total += labels.size(0)\n",
        "    correct += (predicted == labels).sum()\n",
        "\n",
        "  print('Accuracy of the model on 10000 test images : {} %'.format(100 * correct / total))\n"
      ],
      "execution_count": 105,
      "outputs": [
        {
          "output_type": "stream",
          "text": [
            "Accuracy of the model on 10000 test images : 82 %\n"
          ],
          "name": "stdout"
        }
      ]
    },
    {
      "cell_type": "markdown",
      "metadata": {
        "id": "x8mia5Lk1aff",
        "colab_type": "text"
      },
      "source": [
        "**Neural Network**"
      ]
    },
    {
      "cell_type": "code",
      "metadata": {
        "id": "GMkfqVPhweb6",
        "colab_type": "code",
        "colab": {
          "base_uri": "https://localhost:8080/",
          "height": 527
        },
        "outputId": "6e91d880-542a-454a-ab64-1ae9a6de14a6"
      },
      "source": [
        "from torch.utils.tensorboard import SummaryWriter\n",
        "# writer will output to ./runs/ directory by default\n",
        "writer = SummaryWriter()\n",
        "# device configuration\n",
        "device = torch.device('cuda' if torch.cuda.is_available() else 'cpu')\n",
        "\n",
        "# hyper-parameter\n",
        "input_size = 784\n",
        "hidden_size = 500\n",
        "num_classes = 10\n",
        "num_epochs = 5\n",
        "batch_size = 100\n",
        "learning_rate = 0.001\n",
        "\n",
        "# MNIST data (images and labels)\n",
        "train_dataset = torchvision.datasets.MNIST('./data', train=True, transform=torchvision.transforms.ToTensor(), download=True)\n",
        "test_dataset = torchvision.datasets.MNIST('.data', train=False, transform=torchvision.transforms.ToTensor(), download=True)\n",
        "\n",
        "# data loader\n",
        "train_loader = torch.utils.data.DataLoader(train_dataset, batch_size=batch_size, shuffle=True)\n",
        "test_loader = torch.utils.data.DataLoader(test_dataset, batch_size=batch_size, shuffle=False)\n",
        "\n",
        "# fully connected neural net with one hidden layer\n",
        "class NeuralNet(torch.nn.Module):\n",
        "  def __init__(self, input_size, hidden_size, num_classes):\n",
        "    super(NeuralNet, self).__init__()\n",
        "    self.fc1 = torch.nn.Linear(input_size, hidden_size)\n",
        "    self.relu = torch.nn.ReLU()\n",
        "    self.fc2 = torch.nn.Linear(hidden_size, num_classes)\n",
        "  \n",
        "  def forward(self, x):\n",
        "    out = self.fc1(x)\n",
        "    out = self.relu(out)\n",
        "    out = self.fc2(out)\n",
        "    return out\n",
        "\n",
        "model = NeuralNet(input_size, hidden_size, num_classes).to(device)\n",
        "\n",
        "# loss and optimiser\n",
        "criterion = torch.nn.CrossEntropyLoss()\n",
        "optimiser = torch.optim.SGD(model.parameters(), lr=learning_rate)\n",
        "\n",
        "# train the model\n",
        "total_step = len(train_loader)\n",
        "for epoch in range(num_epochs):\n",
        "  for i, (images, labels) in enumerate(train_loader):\n",
        "    images = images.reshape(-1, 28*28).to(device)\n",
        "    labels = labels.to(device)\n",
        "\n",
        "    # forward pass\n",
        "    outputs = model(images)\n",
        "    loss = criterion(outputs, labels)\n",
        "    \n",
        "    # backward pass\n",
        "    optimiser.zero_grad()\n",
        "    loss.backward()\n",
        "    optimiser.step()\n",
        "\n",
        "    if (i+1) % 100 == 0:\n",
        "      print('Epoch: [{}/{}], Step: [{}/{}], Loss: '.format(epoch+1, num_epochs, i+1, total_step, loss.item()))\n",
        "\n"
      ],
      "execution_count": 111,
      "outputs": [
        {
          "output_type": "stream",
          "text": [
            "Epoch: [1/5], Step: [100/600], Loss: \n",
            "Epoch: [1/5], Step: [200/600], Loss: \n",
            "Epoch: [1/5], Step: [300/600], Loss: \n",
            "Epoch: [1/5], Step: [400/600], Loss: \n",
            "Epoch: [1/5], Step: [500/600], Loss: \n",
            "Epoch: [1/5], Step: [600/600], Loss: \n",
            "Epoch: [2/5], Step: [100/600], Loss: \n",
            "Epoch: [2/5], Step: [200/600], Loss: \n",
            "Epoch: [2/5], Step: [300/600], Loss: \n",
            "Epoch: [2/5], Step: [400/600], Loss: \n",
            "Epoch: [2/5], Step: [500/600], Loss: \n",
            "Epoch: [2/5], Step: [600/600], Loss: \n",
            "Epoch: [3/5], Step: [100/600], Loss: \n",
            "Epoch: [3/5], Step: [200/600], Loss: \n",
            "Epoch: [3/5], Step: [300/600], Loss: \n",
            "Epoch: [3/5], Step: [400/600], Loss: \n",
            "Epoch: [3/5], Step: [500/600], Loss: \n",
            "Epoch: [3/5], Step: [600/600], Loss: \n",
            "Epoch: [4/5], Step: [100/600], Loss: \n",
            "Epoch: [4/5], Step: [200/600], Loss: \n",
            "Epoch: [4/5], Step: [300/600], Loss: \n",
            "Epoch: [4/5], Step: [400/600], Loss: \n",
            "Epoch: [4/5], Step: [500/600], Loss: \n",
            "Epoch: [4/5], Step: [600/600], Loss: \n",
            "Epoch: [5/5], Step: [100/600], Loss: \n",
            "Epoch: [5/5], Step: [200/600], Loss: \n",
            "Epoch: [5/5], Step: [300/600], Loss: \n",
            "Epoch: [5/5], Step: [400/600], Loss: \n",
            "Epoch: [5/5], Step: [500/600], Loss: \n",
            "Epoch: [5/5], Step: [600/600], Loss: \n"
          ],
          "name": "stdout"
        }
      ]
    },
    {
      "cell_type": "code",
      "metadata": {
        "id": "Ycgib-gD69us",
        "colab_type": "code",
        "colab": {
          "base_uri": "https://localhost:8080/",
          "height": 34
        },
        "outputId": "55947bd8-5d66-42d6-d1f0-d8972a727e52"
      },
      "source": [
        "# test the model\n",
        "# in test phase, we don't need to compute the gradients (for memory efficiency)\n",
        "with torch.no_grad():\n",
        "  for images, labels in test_loader:\n",
        "    images = images.reshape(-1, 28*28).to(device)\n",
        "    labels = labels.to(device)\n",
        "    outputs = model(images)\n",
        "    _, predicted = torch.max(outputs, 1)\n",
        "    total += labels.size(0)\n",
        "    correct += (predicted == labels).sum()\n",
        "  \n",
        "  print('Accuracy of the network on 10000 test images: {} %'.format(100 * correct / total))"
      ],
      "execution_count": 113,
      "outputs": [
        {
          "output_type": "stream",
          "text": [
            "Accuracy of the network on 10000 test images: 80 %\n"
          ],
          "name": "stdout"
        }
      ]
    },
    {
      "cell_type": "code",
      "metadata": {
        "id": "kL5P2BQd9Aso",
        "colab_type": "code",
        "colab": {}
      },
      "source": [
        ""
      ],
      "execution_count": 0,
      "outputs": []
    }
  ]
}